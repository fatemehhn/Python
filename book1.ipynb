{
 "cells": [
  {
   "cell_type": "code",
   "execution_count": 7,
   "metadata": {},
   "outputs": [
    {
     "name": "stdout",
     "output_type": "stream",
     "text": [
      "Year of birth:12\n",
      "Year of birth is 12\n"
     ]
    }
   ],
   "source": [
    "year = input('Year of birth:' )\n",
    "print( 'Year of birth is %s' % year)"
   ]
  },
  {
   "cell_type": "code",
   "execution_count": 4,
   "metadata": {},
   "outputs": [
    {
     "data": {
      "text/plain": [
       "str"
      ]
     },
     "execution_count": 4,
     "metadata": {},
     "output_type": "execute_result"
    }
   ],
   "source": [
    "type(year)"
   ]
  },
  {
   "cell_type": "code",
   "execution_count": 8,
   "metadata": {},
   "outputs": [],
   "source": [
    "import random"
   ]
  },
  {
   "cell_type": "code",
   "execution_count": 9,
   "metadata": {},
   "outputs": [
    {
     "name": "stdout",
     "output_type": "stream",
     "text": [
      "63\n"
     ]
    }
   ],
   "source": [
    "print(random.randint(1,100))"
   ]
  },
  {
   "cell_type": "code",
   "execution_count": 10,
   "metadata": {},
   "outputs": [
    {
     "name": "stdout",
     "output_type": "stream",
     "text": [
      "21\n"
     ]
    }
   ],
   "source": [
    "print(random.randint(20,40))"
   ]
  },
  {
   "cell_type": "code",
   "execution_count": 11,
   "metadata": {},
   "outputs": [],
   "source": [
    "import random"
   ]
  },
  {
   "cell_type": "code",
   "execution_count": 12,
   "metadata": {},
   "outputs": [],
   "source": [
    "num = random.randint(1,100)"
   ]
  },
  {
   "cell_type": "code",
   "execution_count": 14,
   "metadata": {},
   "outputs": [
    {
     "name": "stdout",
     "output_type": "stream",
     "text": [
      "Guess a number between 1 and 100\n",
      "12\n",
      "Try higher\n",
      "Guess a number between 1 and 100\n",
      "20\n",
      "Try higher\n",
      "Guess a number between 1 and 100\n",
      "49\n",
      "Try higher\n",
      "Guess a number between 1 and 100\n",
      "90\n",
      "Try lower\n",
      "Guess a number between 1 and 100\n",
      "80\n",
      "Try lower\n",
      "Guess a number between 1 and 100\n",
      "70\n",
      "Try lower\n",
      "Guess a number between 1 and 100\n",
      "60\n",
      "Try lower\n",
      "Guess a number between 1 and 100\n",
      "50\n",
      "Try higher\n",
      "Guess a number between 1 and 100\n",
      "51\n",
      "Try higher\n",
      "Guess a number between 1 and 100\n",
      "52\n",
      "You guessed right\n"
     ]
    }
   ],
   "source": [
    "while True:\n",
    "    print('Guess a number between 1 and 100')\n",
    "    guess = input()\n",
    "    i = int(guess)\n",
    "    if i == num:\n",
    "        print('You guessed right')\n",
    "        break\n",
    "    elif i < num:\n",
    "        print('Try higher')\n",
    "    elif i > num:\n",
    "        print('Try lower')"
   ]
  },
  {
   "cell_type": "code",
   "execution_count": null,
   "metadata": {},
   "outputs": [],
   "source": []
  }
 ],
 "metadata": {
  "kernelspec": {
   "display_name": "Python 3",
   "language": "python",
   "name": "python3"
  },
  "language_info": {
   "codemirror_mode": {
    "name": "ipython",
    "version": 3
   },
   "file_extension": ".py",
   "mimetype": "text/x-python",
   "name": "python",
   "nbconvert_exporter": "python",
   "pygments_lexer": "ipython3",
   "version": "3.8.5"
  }
 },
 "nbformat": 4,
 "nbformat_minor": 4
}
