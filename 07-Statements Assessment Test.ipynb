{
 "cells": [
  {
   "cell_type": "markdown",
   "metadata": {},
   "source": [
    "___\n",
    "\n",
    "<a href='https://www.udemy.com/user/joseportilla/'><img src='../Pierian_Data_Logo.png'/></a>\n",
    "___\n",
    "<center><em>Content Copyright by Pierian Data</em></center>"
   ]
  },
  {
   "cell_type": "markdown",
   "metadata": {
    "collapsed": true
   },
   "source": [
    "# Statements Assessment Test\n",
    "Let's test your knowledge!"
   ]
  },
  {
   "cell_type": "markdown",
   "metadata": {},
   "source": [
    "_____\n",
    "**Use <code>for</code>, .split(), and <code>if</code> to create a Statement that will print out words that start with 's':**"
   ]
  },
  {
   "cell_type": "code",
   "execution_count": 40,
   "metadata": {},
   "outputs": [],
   "source": [
    "st = 'Sam Print only the words that start with s in this sentence'"
   ]
  },
  {
   "cell_type": "code",
   "execution_count": 42,
   "metadata": {},
   "outputs": [
    {
     "name": "stdout",
     "output_type": "stream",
     "text": [
      "Sam\n",
      "start\n",
      "s\n",
      "sentence\n",
      "Sam\n",
      "start\n",
      "s\n",
      "sentence\n"
     ]
    }
   ],
   "source": [
    "#Code here\n",
    "#method 1\n",
    "mylist = st.split()\n",
    "for word in mylist:\n",
    "    if word[0] == 's' or word[0] == 'S':\n",
    "        print(word)\n",
    "\n",
    "        \n",
    "#method 2\n",
    "for word in mylist:\n",
    "    if word[0].lower() == 's':\n",
    "        print(word)"
   ]
  },
  {
   "cell_type": "markdown",
   "metadata": {},
   "source": [
    "______\n",
    "**Use range() to print all the even numbers from 0 to 10.**"
   ]
  },
  {
   "cell_type": "code",
   "execution_count": 46,
   "metadata": {},
   "outputs": [
    {
     "name": "stdout",
     "output_type": "stream",
     "text": [
      "0\n",
      "2\n",
      "4\n",
      "6\n",
      "8\n",
      "10\n"
     ]
    },
    {
     "data": {
      "text/plain": [
       "[0, 2, 4, 6, 8, 10]"
      ]
     },
     "execution_count": 46,
     "metadata": {},
     "output_type": "execute_result"
    }
   ],
   "source": [
    "#Code Here\n",
    "for num in range(0,11):\n",
    "    if num%2 == 0:\n",
    "        print(num)\n",
    "        \n",
    "\n",
    "        \n",
    "        \n",
    "mylist = [a for a in range(0,11) if a%2 == 0]\n",
    "mylist\n",
    "\n",
    "mylist = list(range(0,11,2))\n",
    "mylist"
   ]
  },
  {
   "cell_type": "markdown",
   "metadata": {},
   "source": [
    "___\n",
    "**Use a List Comprehension to create a list of all numbers between 1 and 50 that are divisible by 3.**"
   ]
  },
  {
   "cell_type": "code",
   "execution_count": 19,
   "metadata": {},
   "outputs": [
    {
     "name": "stdout",
     "output_type": "stream",
     "text": [
      "3\n",
      "6\n",
      "9\n",
      "12\n",
      "15\n",
      "18\n",
      "21\n",
      "24\n",
      "27\n",
      "30\n",
      "33\n",
      "36\n",
      "39\n",
      "42\n",
      "45\n",
      "48\n"
     ]
    }
   ],
   "source": [
    "#Code in this cell\n",
    "# method 1\n",
    "mylist = [a for a in range(1,51) if a%3 ==0]\n",
    "mylist\n",
    "\n",
    "method 2\n",
    "for num in range(1,51):\n",
    "    if num%3==0:\n",
    "        print(num)"
   ]
  },
  {
   "cell_type": "markdown",
   "metadata": {},
   "source": [
    "_____\n",
    "**Go through the string below and if the length of a word is even print \"even!\"**"
   ]
  },
  {
   "cell_type": "code",
   "execution_count": null,
   "metadata": {
    "collapsed": true
   },
   "outputs": [],
   "source": [
    "st = 'Print every word in this sentence that has an even number of letters'"
   ]
  },
  {
   "cell_type": "code",
   "execution_count": 23,
   "metadata": {},
   "outputs": [
    {
     "name": "stdout",
     "output_type": "stream",
     "text": [
      " length of \"only\" is even!\n",
      " length of \"that\" is even!\n",
      " length of \"with\" is even!\n",
      " length of \"in\" is even!\n",
      " length of \"this\" is even!\n",
      " length of \"sentence\" is even!\n"
     ]
    }
   ],
   "source": [
    "#Code in this cell\n",
    "\n",
    "mylist = st.split()\n",
    "for letter in mylist:\n",
    "    if len(letter)%2 ==0:\n",
    "        \n",
    "        print(f' length of \\\"{letter}\\\" is even!')"
   ]
  },
  {
   "cell_type": "markdown",
   "metadata": {},
   "source": [
    "____\n",
    "**Write a program that prints the integers from 1 to 100. But for multiples of three print \"Fizz\" instead of the number, and for the multiples of five print \"Buzz\". For numbers which are multiples of both three and five print \"FizzBuzz\".**"
   ]
  },
  {
   "cell_type": "code",
   "execution_count": 25,
   "metadata": {},
   "outputs": [
    {
     "name": "stdout",
     "output_type": "stream",
     "text": [
      "3, Fizz\n",
      "5, Buzz\n",
      "6, Fizz\n",
      "9, Fizz\n",
      "10, Buzz\n",
      "12, Fizz\n",
      "15, Fizz\n",
      "18, Fizz\n",
      "20, Buzz\n",
      "21, Fizz\n",
      "24, Fizz\n",
      "25, Buzz\n",
      "27, Fizz\n",
      "30, Fizz\n",
      "33, Fizz\n",
      "35, Buzz\n",
      "36, Fizz\n",
      "39, Fizz\n",
      "40, Buzz\n",
      "42, Fizz\n",
      "45, Fizz\n",
      "48, Fizz\n",
      "50, Buzz\n",
      "51, Fizz\n",
      "54, Fizz\n",
      "55, Buzz\n",
      "57, Fizz\n",
      "60, Fizz\n",
      "63, Fizz\n",
      "65, Buzz\n",
      "66, Fizz\n",
      "69, Fizz\n",
      "70, Buzz\n",
      "72, Fizz\n",
      "75, Fizz\n",
      "78, Fizz\n",
      "80, Buzz\n",
      "81, Fizz\n",
      "84, Fizz\n",
      "85, Buzz\n",
      "87, Fizz\n",
      "90, Fizz\n",
      "93, Fizz\n",
      "95, Buzz\n",
      "96, Fizz\n",
      "99, Fizz\n",
      "100, Buzz\n"
     ]
    }
   ],
   "source": [
    "#Code in this cell\n",
    "\n",
    "for num in range(1,101):\n",
    "    if num%3 == 0:\n",
    "        print(f'{num}, Fizz')\n",
    "    elif num%5 ==0:\n",
    "        print(f'{num}, Buzz')\n",
    "    elif num%5 == 0 and num%3 == 0:\n",
    "        print(f'{num}, FizzBuzz')"
   ]
  },
  {
   "cell_type": "markdown",
   "metadata": {},
   "source": [
    "____\n",
    "**Use List Comprehension to create a list of the first letters of every word in the string below:**"
   ]
  },
  {
   "cell_type": "code",
   "execution_count": 34,
   "metadata": {},
   "outputs": [],
   "source": [
    "st = 'Create a list of the first letters of every word in this string'"
   ]
  },
  {
   "cell_type": "code",
   "execution_count": 47,
   "metadata": {},
   "outputs": [
    {
     "data": {
      "text/plain": [
       "['S', 'P', 'o', 't', 'w', 't', 's', 'w', 's', 'i', 't', 's']"
      ]
     },
     "execution_count": 47,
     "metadata": {},
     "output_type": "execute_result"
    }
   ],
   "source": [
    "#Code in this cell\n",
    "newlist = []\n",
    "mylist = st.split()\n",
    "for letter in mylist:\n",
    "    newlist.append(letter[0])\n",
    "\n",
    "newlist\n",
    "\n",
    "[word[0] for word in st.split() ]"
   ]
  },
  {
   "cell_type": "markdown",
   "metadata": {},
   "source": [
    "### Great Job!"
   ]
  }
 ],
 "metadata": {
  "kernelspec": {
   "display_name": "Python 3",
   "language": "python",
   "name": "python3"
  },
  "language_info": {
   "codemirror_mode": {
    "name": "ipython",
    "version": 3
   },
   "file_extension": ".py",
   "mimetype": "text/x-python",
   "name": "python",
   "nbconvert_exporter": "python",
   "pygments_lexer": "ipython3",
   "version": "3.8.5"
  }
 },
 "nbformat": 4,
 "nbformat_minor": 1
}
