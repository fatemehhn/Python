{
 "cells": [
  {
   "cell_type": "code",
   "execution_count": 56,
   "metadata": {},
   "outputs": [],
   "source": [
    "a = \"192.168.1.0\"\n",
    "a = \"2001:0db8:85a3:0000:0000:8a2e:0370:7334\"\n",
    "\n",
    "a = \"02001:0db8:85a3:0000:0000:8a2e:0370:7334\"\n",
    "special_characters = ['\"','!','@','#','$','%','^','&','*','(',')','-','+','?','_','=','<','>','/','''''']"
   ]
  },
  {
   "cell_type": "code",
   "execution_count": 57,
   "metadata": {},
   "outputs": [],
   "source": [
    "b = a.split('.')\n",
    "c = a.split(':')"
   ]
  },
  {
   "cell_type": "code",
   "execution_count": 58,
   "metadata": {},
   "outputs": [
    {
     "name": "stdout",
     "output_type": "stream",
     "text": [
      "Neither\n"
     ]
    }
   ],
   "source": [
    "if (len(b) > 1) :\n",
    "    bb = 0\n",
    "    for item in b:\n",
    "        if (int(item) in range(0,256)):\n",
    "            bb = bb+1;\n",
    "            if bb == len(b):\n",
    "                print(\"IPv4\")\n",
    "            else:\n",
    "                print(\"Neither\")\n",
    "elif len(c) > 1:\n",
    "    cc = 0\n",
    "    for item in c:\n",
    "        if len(item) in range(0,5):\n",
    "            cc = cc+1\n",
    "    if cc == len(c):\n",
    "        print(\"IPv6\")\n",
    "    else:\n",
    "        print(\"Neither\")        \n",
    "        #else:\n",
    "          #  print(\"Neither\")"
   ]
  },
  {
   "cell_type": "code",
   "execution_count": 53,
   "metadata": {},
   "outputs": [
    {
     "data": {
      "text/plain": [
       "False"
      ]
     },
     "execution_count": 53,
     "metadata": {},
     "output_type": "execute_result"
    }
   ],
   "source": [
    "'168@1' in special_characters"
   ]
  },
  {
   "cell_type": "code",
   "execution_count": 25,
   "metadata": {},
   "outputs": [],
   "source": [
    "for item in b:\n",
    "    item in range(0,256)"
   ]
  },
  {
   "cell_type": "code",
   "execution_count": 12,
   "metadata": {},
   "outputs": [
    {
     "data": {
      "text/plain": [
       "True"
      ]
     },
     "execution_count": 12,
     "metadata": {},
     "output_type": "execute_result"
    }
   ],
   "source": [
    "192 in range(0,256)"
   ]
  },
  {
   "cell_type": "code",
   "execution_count": 17,
   "metadata": {},
   "outputs": [
    {
     "data": {
      "text/plain": [
       "0"
      ]
     },
     "execution_count": 17,
     "metadata": {},
     "output_type": "execute_result"
    }
   ],
   "source": [
    "bb"
   ]
  },
  {
   "cell_type": "code",
   "execution_count": null,
   "metadata": {},
   "outputs": [],
   "source": []
  }
 ],
 "metadata": {
  "kernelspec": {
   "display_name": "Python 3",
   "language": "python",
   "name": "python3"
  },
  "language_info": {
   "codemirror_mode": {
    "name": "ipython",
    "version": 3
   },
   "file_extension": ".py",
   "mimetype": "text/x-python",
   "name": "python",
   "nbconvert_exporter": "python",
   "pygments_lexer": "ipython3",
   "version": "3.8.5"
  }
 },
 "nbformat": 4,
 "nbformat_minor": 4
}
