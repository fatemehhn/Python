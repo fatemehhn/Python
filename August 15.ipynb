{
 "cells": [
  {
   "cell_type": "code",
   "execution_count": 2,
   "metadata": {},
   "outputs": [],
   "source": [
    "game_list = [0, 1, 2]"
   ]
  },
  {
   "cell_type": "code",
   "execution_count": 4,
   "metadata": {},
   "outputs": [],
   "source": [
    "def display_game(game_list):\n",
    "    print('Here is the current list: ')\n",
    "    print(game_list)"
   ]
  },
  {
   "cell_type": "code",
   "execution_count": 5,
   "metadata": {},
   "outputs": [
    {
     "name": "stdout",
     "output_type": "stream",
     "text": [
      "Here is the current list: \n",
      "[0, 1, 2]\n"
     ]
    }
   ],
   "source": [
    "display_game(game_list)"
   ]
  },
  {
   "cell_type": "code",
   "execution_count": 6,
   "metadata": {},
   "outputs": [],
   "source": [
    "def position_choice():\n",
    "    \n",
    "    choice = 'wrong'\n",
    "    \n",
    "    while choice not in ['0', '1', '2']:\n",
    "        \n",
    "        choice = input('Pick a position (0,1,2):')\n",
    "        \n",
    "        if choice not in ['0', '1', '2']:\n",
    "            print(\"sorry, invalid choice!\")\n",
    "    \n",
    "    return int(choice)"
   ]
  },
  {
   "cell_type": "code",
   "execution_count": 7,
   "metadata": {},
   "outputs": [
    {
     "name": "stdout",
     "output_type": "stream",
     "text": [
      "Pick a position (0,1,2):two\n",
      "sorry, invalid choice!\n",
      "Pick a position (0,1,2):24\n",
      "sorry, invalid choice!\n",
      "Pick a position (0,1,2):1\n"
     ]
    },
    {
     "data": {
      "text/plain": [
       "1"
      ]
     },
     "execution_count": 7,
     "metadata": {},
     "output_type": "execute_result"
    }
   ],
   "source": [
    "position_choice()"
   ]
  },
  {
   "cell_type": "code",
   "execution_count": 9,
   "metadata": {},
   "outputs": [],
   "source": [
    "def replacement_choice(game_list, position):\n",
    "    use_placement = input('Type a stringto place at position')\n",
    "    \n",
    "    game_list[position] = use_placement\n",
    "    \n",
    "    return game_list"
   ]
  },
  {
   "cell_type": "raw",
   "metadata": {},
   "source": []
  },
  {
   "cell_type": "code",
   "execution_count": 10,
   "metadata": {},
   "outputs": [
    {
     "name": "stdout",
     "output_type": "stream",
     "text": [
      "Type a stringto place at position2\n"
     ]
    },
    {
     "data": {
      "text/plain": [
       "[0, '2', 2]"
      ]
     },
     "execution_count": 10,
     "metadata": {},
     "output_type": "execute_result"
    }
   ],
   "source": [
    "replacement_choice(game_list,1)"
   ]
  },
  {
   "cell_type": "code",
   "execution_count": 12,
   "metadata": {},
   "outputs": [],
   "source": [
    "def gameon_choice():\n",
    "    \n",
    "    choice = 'wrong'\n",
    "    \n",
    "    while choice not in ['Y', 'N']:\n",
    "        \n",
    "        \n",
    "        choice = input('Keep playing (Y or N) ')\n",
    "        \n",
    "        if choice not in ['Y', 'N']:\n",
    "            print(\"sorry, I dont understand, please choose Y or N\")\n",
    "    \n",
    "    if choice == \"Y\":\n",
    "        return True\n",
    "    else:\n",
    "        return False"
   ]
  },
  {
   "cell_type": "markdown",
   "metadata": {},
   "source": []
  },
  {
   "cell_type": "code",
   "execution_count": 13,
   "metadata": {},
   "outputs": [
    {
     "name": "stdout",
     "output_type": "stream",
     "text": [
      "Keep playing (Y or N) r\n",
      "sorry, I dont understand, please choose Y or N\n",
      "Keep playing (Y or N) N\n"
     ]
    },
    {
     "data": {
      "text/plain": [
       "False"
      ]
     },
     "execution_count": 13,
     "metadata": {},
     "output_type": "execute_result"
    }
   ],
   "source": [
    "gameon_choice()"
   ]
  },
  {
   "cell_type": "code",
   "execution_count": 14,
   "metadata": {},
   "outputs": [],
   "source": [
    "game_on = True"
   ]
  },
  {
   "cell_type": "code",
   "execution_count": 15,
   "metadata": {},
   "outputs": [],
   "source": [
    "game_list=[0,1,2]"
   ]
  },
  {
   "cell_type": "code",
   "execution_count": 16,
   "metadata": {},
   "outputs": [
    {
     "name": "stdout",
     "output_type": "stream",
     "text": [
      "Here is the current list: \n",
      "[0, 1, 2]\n",
      "Pick a position (0,1,2):two\n",
      "sorry, invalid choice!\n",
      "Pick a position (0,1,2):1\n",
      "Type a stringto place at positionmy choice\n",
      "Here is the current list: \n",
      "[0, 'my choice', 2]\n",
      "Keep playing (Y or N) Y\n",
      "Here is the current list: \n",
      "[0, 'my choice', 2]\n",
      "Pick a position (0,1,2):0\n",
      "Type a stringto place at positiontest\n",
      "Here is the current list: \n",
      "['test', 'my choice', 2]\n",
      "Keep playing (Y or N) N\n"
     ]
    }
   ],
   "source": [
    "while game_on:\n",
    "    \n",
    "    display_game(game_list)\n",
    "    \n",
    "    position = position_choice()\n",
    "    \n",
    "    game_list = replacement_choice(game_list,position)\n",
    "    display_game(game_list)\n",
    "    game_on = gameon_choice()"
   ]
  },
  {
   "cell_type": "code",
   "execution_count": null,
   "metadata": {},
   "outputs": [],
   "source": []
  }
 ],
 "metadata": {
  "kernelspec": {
   "display_name": "Python 3",
   "language": "python",
   "name": "python3"
  },
  "language_info": {
   "codemirror_mode": {
    "name": "ipython",
    "version": 3
   },
   "file_extension": ".py",
   "mimetype": "text/x-python",
   "name": "python",
   "nbconvert_exporter": "python",
   "pygments_lexer": "ipython3",
   "version": "3.8.5"
  }
 },
 "nbformat": 4,
 "nbformat_minor": 4
}
